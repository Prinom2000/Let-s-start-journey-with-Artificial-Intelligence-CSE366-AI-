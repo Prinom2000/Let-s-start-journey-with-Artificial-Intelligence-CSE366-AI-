{
 "cells": [
  {
   "cell_type": "markdown",
   "metadata": {},
   "source": [
    "Create class & object\n"
   ]
  },
  {
   "cell_type": "code",
   "execution_count": 8,
   "metadata": {},
   "outputs": [
    {
     "name": "stdout",
     "output_type": "stream",
     "text": [
      "Hello world....!\n"
     ]
    }
   ],
   "source": [
    "class employee:\n",
    "    def __init__(self):   # defult CONSTRUCTOR....!\n",
    "        print(\"Hello world....!\")\n",
    "\n",
    "ob3=employee()\n"
   ]
  },
  {
   "cell_type": "code",
   "execution_count": 13,
   "metadata": {},
   "outputs": [
    {
     "name": "stdout",
     "output_type": "stream",
     "text": [
      "ID:  1      Name:  prinom\n",
      "ID:  2      Name:  Juba\n",
      "ID:  3      Name:  Nz\n",
      "ID:  99      Name:  prinom\n",
      "99\n"
     ]
    }
   ],
   "source": [
    "class employee:\n",
    "    def __init__(self, id, name):   # paramiterized CONSTRUCTOR....!\n",
    "        self.id=id  # instance var\n",
    "        self.name=name  # instance var\n",
    "\n",
    "    def dis(self):  #ins method\n",
    "        print(\"ID: \",self.id,\"     Name: \", self.name)\n",
    "\n",
    "ob1=employee( 1, 'prinom')\n",
    "ob2=employee(2, 'Juba')\n",
    "ob3=employee(3, 'Nz')\n",
    "\n",
    "ob1.dis()\n",
    "ob2.dis()\n",
    "ob3.dis()\n",
    "\n",
    "ob1.id=99  # update id\n",
    "ob1.dis()\n",
    "\n",
    "print(ob1.id) "
   ]
  },
  {
   "cell_type": "markdown",
   "metadata": {},
   "source": [
    "Student class"
   ]
  },
  {
   "cell_type": "code",
   "execution_count": 22,
   "metadata": {},
   "outputs": [
    {
     "name": "stdout",
     "output_type": "stream",
     "text": [
      "Window:   4    Door:   2\n",
      "Window:   4    Door:   2\n",
      "Updated...........!\n",
      "Window:   1    Door:   2\n",
      "Updated...........!\n",
      "Window:   55    Door:   33\n"
     ]
    }
   ],
   "source": [
    "class House:\n",
    "    def __init__(self,win,do):\n",
    "        self.window=4\n",
    "        self.door=2\n",
    "\n",
    "        self.win=win\n",
    "        self.do=do\n",
    "\n",
    "    def view(self):\n",
    "        print(\"Window:  \", self.window, \"   Door:  \", self.door)\n",
    "    def dis(self):\n",
    "        print(\"Updated...........!\")\n",
    "        print(\"Window:  \", self.win, \"   Door:  \", self.do)\n",
    "\n",
    "\n",
    "h1=House(1,2)\n",
    "h2=House(55,33)\n",
    "\n",
    "h1.view()\n",
    "h2.view()\n",
    "\n",
    "h1.dis()\n",
    "h2.dis()\n",
    "\n"
   ]
  },
  {
   "cell_type": "markdown",
   "metadata": {},
   "source": [
    "Help of creating of Class & object........!"
   ]
  },
  {
   "cell_type": "code",
   "execution_count": 23,
   "metadata": {},
   "outputs": [
    {
     "name": "stdout",
     "output_type": "stream",
     "text": [
      "This is a 4 Whileer car. Model:  oddi      The year is:  2000\n",
      "This is a 4 Whileer car. Model:  AK47      The year is:  2023\n"
     ]
    }
   ],
   "source": [
    "class car:\n",
    "    def __init__(self, model, year) -> None:\n",
    "        self.model=model\n",
    "        self.year=year\n",
    "\n",
    "    def dis(self):\n",
    "        print(\"This is a 4 Whileer car. Model: \", self.model, \"     The year is: \", self.year)\n",
    "\n",
    "\n",
    "c1=car(\"oddi\", 2000)\n",
    "c2=car(\"AK47\", 2023)\n",
    "\n",
    "c1.dis()\n",
    "c2.dis()"
   ]
  },
  {
   "cell_type": "code",
   "execution_count": null,
   "metadata": {},
   "outputs": [],
   "source": []
  }
 ],
 "metadata": {
  "kernelspec": {
   "display_name": "Python 3",
   "language": "python",
   "name": "python3"
  },
  "language_info": {
   "codemirror_mode": {
    "name": "ipython",
    "version": 3
   },
   "file_extension": ".py",
   "mimetype": "text/x-python",
   "name": "python",
   "nbconvert_exporter": "python",
   "pygments_lexer": "ipython3",
   "version": "3.12.0"
  }
 },
 "nbformat": 4,
 "nbformat_minor": 2
}
