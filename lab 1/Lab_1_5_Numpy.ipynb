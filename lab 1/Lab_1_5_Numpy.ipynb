{
  "nbformat": 4,
  "nbformat_minor": 0,
  "metadata": {
    "colab": {
      "provenance": []
    },
    "kernelspec": {
      "name": "python3",
      "display_name": "Python 3"
    },
    "language_info": {
      "name": "python"
    }
  },
  "cells": [
    {
      "cell_type": "markdown",
      "source": [
        "# Basics of NumPy Arrays"
      ],
      "metadata": {
        "id": "DgoO5Prgs5V0"
      }
    },
    {
      "cell_type": "code",
      "source": [
        "import numpy as np\n"
      ],
      "metadata": {
        "id": "EwC3y3MUtL-T"
      },
      "execution_count": null,
      "outputs": []
    },
    {
      "cell_type": "markdown",
      "source": [
        "Learn how to create NumPy arrays and inspect their attributes.\n",
        "\n",
        "Creating Arrays"
      ],
      "metadata": {
        "id": "ZVGcJJJ2tAJe"
      }
    },
    {
      "cell_type": "code",
      "execution_count": null,
      "metadata": {
        "colab": {
          "base_uri": "https://localhost:8080/"
        },
        "id": "JZQertF0qogi",
        "outputId": "b4055925-6008-4147-9617-b42ed673f6ab"
      },
      "outputs": [
        {
          "output_type": "stream",
          "name": "stdout",
          "text": [
            "1D Array: [1 2 3 4 5]\n",
            "\n",
            "2D Array:\n",
            " [[1 2 3]\n",
            " [4 5 6]]\n"
          ]
        }
      ],
      "source": [
        "# Create a 1D array from a list\n",
        "arr_1d = np.array([1, 2, 3, 4, 5])\n",
        "print(\"1D Array:\", arr_1d)\n",
        "\n",
        "# Create a 2D array from a nested list\n",
        "arr_2d = np.array([[1, 2, 3], [4, 5, 6]])\n",
        "print(\"\\n2D Array:\\n\", arr_2d)\n"
      ]
    },
    {
      "cell_type": "markdown",
      "source": [
        "Inspecting Array Attributes"
      ],
      "metadata": {
        "id": "-kXik2gMtGQ1"
      }
    },
    {
      "cell_type": "code",
      "source": [
        "# Print the shape, size, and data type of arr_2d\n",
        "print(\"Shape:\", arr_2d.shape)\n",
        "print(\"Size:\", arr_2d.size)\n",
        "print(\"Data Type:\", arr_2d.dtype)\n"
      ],
      "metadata": {
        "colab": {
          "base_uri": "https://localhost:8080/"
        },
        "id": "9mdUIRrRtEAZ",
        "outputId": "b2e6289f-7353-49d8-b9bb-b03b5ec605c7"
      },
      "execution_count": null,
      "outputs": [
        {
          "output_type": "stream",
          "name": "stdout",
          "text": [
            "Shape: (2, 3)\n",
            "Size: 6\n",
            "Data Type: int64\n"
          ]
        }
      ]
    },
    {
      "cell_type": "markdown",
      "source": [
        "# Array Creation Techniques\n",
        "Objective: Explore different ways to create arrays in NumPy."
      ],
      "metadata": {
        "id": "K3KI4UoTtyu1"
      }
    },
    {
      "cell_type": "code",
      "source": [
        "# Create an array filled with zeros\n",
        "zeros = np.zeros((2, 3))\n",
        "print(\"Zeros:\\n\", zeros)\n",
        "\n",
        "# Create an array filled with ones\n",
        "ones = np.ones((3, 2))\n",
        "print(\"\\nOnes:\\n\", ones)\n",
        "\n",
        "# Create an array with a range of elements\n",
        "range_array = np.arange(10)\n",
        "print(\"\\nRange Array:\", range_array)\n"
      ],
      "metadata": {
        "colab": {
          "base_uri": "https://localhost:8080/"
        },
        "id": "RYb_m83ntIOR",
        "outputId": "88dc17e6-1f2b-4758-e6dc-39b5bea36969"
      },
      "execution_count": null,
      "outputs": [
        {
          "output_type": "stream",
          "name": "stdout",
          "text": [
            "Zeros:\n",
            " [[0. 0. 0.]\n",
            " [0. 0. 0.]]\n",
            "\n",
            "Ones:\n",
            " [[1. 1.]\n",
            " [1. 1.]\n",
            " [1. 1.]]\n",
            "\n",
            "Range Array: [0 1 2 3 4 5 6 7 8 9]\n"
          ]
        }
      ]
    },
    {
      "cell_type": "markdown",
      "source": [
        "Reshaping and Flattening Arrays\n",
        "\n",
        "Objective: Modify the shape of arrays without changing their data."
      ],
      "metadata": {
        "id": "-ij_jTM7t6zq"
      }
    },
    {
      "cell_type": "code",
      "source": [
        "# Reshape arr_2d to 3x2\n",
        "reshaped = arr_2d.reshape((3, 2))\n",
        "print(\"Reshaped to 3x2:\\n\", reshaped)\n",
        "\n",
        "# Flatten arr_2d to a 1D array\n",
        "flattened = arr_2d.flatten()\n",
        "print(\"\\nFlattened Array:\", flattened)\n"
      ],
      "metadata": {
        "colab": {
          "base_uri": "https://localhost:8080/"
        },
        "id": "pOwWEY0qt1RJ",
        "outputId": "949bd2e4-42e6-42bd-de6c-8e0d40b9fcd7"
      },
      "execution_count": null,
      "outputs": [
        {
          "output_type": "stream",
          "name": "stdout",
          "text": [
            "Reshaped to 3x2:\n",
            " [[1 2]\n",
            " [3 4]\n",
            " [5 6]]\n",
            "\n",
            "Flattened Array: [1 2 3 4 5 6]\n"
          ]
        }
      ]
    },
    {
      "cell_type": "markdown",
      "source": [
        "Concatenating and Splitting Arrays\n",
        "\n",
        "Objective: Learn to combine and divide arrays."
      ],
      "metadata": {
        "id": "nAuPQkw2uC_k"
      }
    },
    {
      "cell_type": "code",
      "source": [
        "# Concatenate arr_1d and a new array\n",
        "arr_3 = np.array([6, 7, 8, 9, 10])\n",
        "concatenated = np.concatenate([arr_1d, arr_3])\n",
        "print(\"Concatenated Array:\", concatenated)\n",
        "\n",
        "# Split concatenated array into three parts\n",
        "split = np.split(concatenated, [5, 8])\n",
        "print(\"\\nSplit Array:\", split)\n"
      ],
      "metadata": {
        "colab": {
          "base_uri": "https://localhost:8080/"
        },
        "id": "cooUBvo_t-hc",
        "outputId": "bc7a30e5-ead4-4c85-c1e0-74396191bd75"
      },
      "execution_count": null,
      "outputs": [
        {
          "output_type": "stream",
          "name": "stdout",
          "text": [
            "Concatenated Array: [ 1  2  3  4  5  6  7  8  9 10]\n",
            "\n",
            "Split Array: [array([1, 2, 3, 4, 5]), array([6, 7, 8]), array([ 9, 10])]\n"
          ]
        }
      ]
    },
    {
      "cell_type": "markdown",
      "source": [
        "# Linear Algebra and Statistical Operations\n",
        "\n",
        "Matrix Operations\n",
        "\n",
        "Objective: Perform basic linear algebra operations."
      ],
      "metadata": {
        "id": "ClHF_JaMuIeX"
      }
    },
    {
      "cell_type": "code",
      "source": [
        "# Matrix multiplication\n",
        "A = np.array([[1, 2], [3, 4]])\n",
        "B = np.array([[5, 6], [7, 8]])\n",
        "product = np.dot(A, B)\n",
        "print(\"Matrix Product:\\n\", product)\n",
        "\n",
        "# Find the determinant of A\n",
        "det_A = np.linalg.det(A)\n",
        "print(\"\\nDeterminant of A:\", det_A)\n"
      ],
      "metadata": {
        "colab": {
          "base_uri": "https://localhost:8080/"
        },
        "id": "t8guEO3ouFDD",
        "outputId": "c569762d-f5a4-483f-c3f5-6fd4bb8d8a9c"
      },
      "execution_count": null,
      "outputs": [
        {
          "output_type": "stream",
          "name": "stdout",
          "text": [
            "Matrix Product:\n",
            " [[19 22]\n",
            " [43 50]]\n",
            "\n",
            "Determinant of A: -2.0000000000000004\n"
          ]
        }
      ]
    },
    {
      "cell_type": "markdown",
      "source": [
        "Statistical Analysis\n",
        "\n",
        "Objective: Apply statistical methods to analyze data."
      ],
      "metadata": {
        "id": "ZErRvZ1juPEq"
      }
    },
    {
      "cell_type": "code",
      "source": [
        "# Calculate mean, median, and standard deviation\n",
        "data = np.array([1, 2, 3, 4, 5, 6, 7, 8, 9, 10])\n",
        "print(\"Mean:\", np.mean(data))\n",
        "print(\"Median:\", np.median(data))\n",
        "print(\"Standard Deviation:\", np.std(data))\n",
        "\n",
        "# Find unique elements and their counts\n",
        "unique_elements, counts = np.unique(data, return_counts=True)\n",
        "print(\"\\nUnique Elements:\", unique_elements)\n",
        "print(\"Counts:\", counts)\n"
      ],
      "metadata": {
        "colab": {
          "base_uri": "https://localhost:8080/"
        },
        "id": "_JU0pDBAuMqr",
        "outputId": "f236315f-3a47-43d0-dcb9-810413915485"
      },
      "execution_count": null,
      "outputs": [
        {
          "output_type": "stream",
          "name": "stdout",
          "text": [
            "Mean: 5.5\n",
            "Median: 5.5\n",
            "Standard Deviation: 2.8722813232690143\n",
            "\n",
            "Unique Elements: [ 1  2  3  4  5  6  7  8  9 10]\n",
            "Counts: [1 1 1 1 1 1 1 1 1 1]\n"
          ]
        }
      ]
    },
    {
      "cell_type": "code",
      "source": [],
      "metadata": {
        "id": "IxlZ1aNcuQ-_"
      },
      "execution_count": null,
      "outputs": []
    }
  ]
}