{
  "nbformat": 4,
  "nbformat_minor": 0,
  "metadata": {
    "colab": {
      "provenance": []
    },
    "kernelspec": {
      "name": "python3",
      "display_name": "Python 3"
    },
    "language_info": {
      "name": "python"
    }
  },
  "cells": [
    {
      "cell_type": "code",
      "execution_count": null,
      "metadata": {
        "id": "fYFMKJ0mAkRY"
      },
      "outputs": [],
      "source": [
        "# list set tuple dict\n",
        "\n",
        "# basic syntax, data structure, function, OOP and advance concepts\n",
        "if 5 != 5 and 5==5:\n",
        "  print(True)\n",
        "elif 5>=5:\n",
        "  print(False)\n",
        "else:\n",
        "  print(False)\n",
        "\n",
        "# range(start,end,step)\n",
        "for i in range(1,10,2):\n",
        "  print(i)\n",
        "\n",
        "for i in range(10,-1,-1):\n",
        "  print(i)\n",
        "\n",
        "i = 0\n",
        "while i<5:\n",
        "  print(i)\n",
        "  i+=1\n",
        "\n",
        "name = []\n",
        "num = int(input(\"Enter number of student:\"))\n",
        "for i in range(num):\n",
        "  name[i] = i+1\n",
        "\n",
        "\n",
        "\n"
      ]
    },
    {
      "cell_type": "code",
      "source": [
        "num = []\n",
        "for i in range(10):\n",
        "  if i%2 == 0:\n",
        "    num.append(i)\n",
        "\n",
        "print(num)"
      ],
      "metadata": {
        "colab": {
          "base_uri": "https://localhost:8080/"
        },
        "id": "z9bkB-24Do4m",
        "outputId": "27cdeac5-4625-4018-9f0e-70a24ba6ab25"
      },
      "execution_count": null,
      "outputs": [
        {
          "output_type": "stream",
          "name": "stdout",
          "text": [
            "[0, 2, 4, 6, 8]\n"
          ]
        }
      ]
    },
    {
      "cell_type": "code",
      "source": [
        "num = [i for i in range(10) if i%2 == 0]\n",
        "print(\"The list is:\",num)"
      ],
      "metadata": {
        "colab": {
          "base_uri": "https://localhost:8080/"
        },
        "id": "ew7Mm6D0D0d2",
        "outputId": "b39dd43e-442c-4d50-8d0c-934934adbc3d"
      },
      "execution_count": null,
      "outputs": [
        {
          "output_type": "stream",
          "name": "stdout",
          "text": [
            "The list is: [0, 2, 4, 6, 8]\n"
          ]
        }
      ]
    },
    {
      "cell_type": "code",
      "source": [
        "student = {\n",
        "    'name':['student 1','student 2'],\n",
        "    'id': ['2021-1-60-001','2021-1-60-002']\n",
        "}\n",
        "\n",
        "student['marks'] = [56,55]"
      ],
      "metadata": {
        "id": "4610Fh2hD9b9"
      },
      "execution_count": null,
      "outputs": []
    },
    {
      "cell_type": "code",
      "source": [
        "student"
      ],
      "metadata": {
        "colab": {
          "base_uri": "https://localhost:8080/"
        },
        "id": "mEmHp21bFILE",
        "outputId": "bfcd93eb-29a3-4df3-ef79-81c775479e00"
      },
      "execution_count": null,
      "outputs": [
        {
          "output_type": "execute_result",
          "data": {
            "text/plain": [
              "{'name': ['student 1', 'student 2'],\n",
              " 'id': ['2021-1-60-001', '2021-1-60-002'],\n",
              " 'marks': [56, 55]}"
            ]
          },
          "metadata": {},
          "execution_count": 10
        }
      ]
    },
    {
      "cell_type": "code",
      "source": [
        "for key, value in student.items():\n",
        "  print(key,\" and value\", value)"
      ],
      "metadata": {
        "colab": {
          "base_uri": "https://localhost:8080/"
        },
        "id": "GE45tsLfFLe8",
        "outputId": "06c4326a-7257-494b-e68d-d97037ee258c"
      },
      "execution_count": null,
      "outputs": [
        {
          "output_type": "stream",
          "name": "stdout",
          "text": [
            "name  and value ['student 1', 'student 2']\n",
            "id  and value ['2021-1-60-001', '2021-1-60-002']\n",
            "marks  and value [56, 55]\n"
          ]
        }
      ]
    },
    {
      "cell_type": "code",
      "source": [
        "# function\n",
        "def input_number(a=5,b=6):\n",
        "  return a+b\n",
        "\n",
        "print(input_number(9))"
      ],
      "metadata": {
        "colab": {
          "base_uri": "https://localhost:8080/"
        },
        "id": "SZZ7ELRmFaj8",
        "outputId": "53d27880-eef8-4f68-f091-e845137f08a9"
      },
      "execution_count": null,
      "outputs": [
        {
          "output_type": "stream",
          "name": "stdout",
          "text": [
            "15\n"
          ]
        }
      ]
    },
    {
      "cell_type": "code",
      "source": [
        "student={\n",
        "    'name': ['std1','std2'],\n",
        "    'id':['2022-1-60-001','2022-1-60-002']\n",
        "}"
      ],
      "metadata": {
        "id": "VUGMGIytKXZL"
      },
      "execution_count": null,
      "outputs": []
    },
    {
      "cell_type": "code",
      "source": [
        "student = {}\n",
        "def add_items():\n",
        "\n",
        "  name = []\n",
        "  id = []\n",
        "  num = int(input(\"Enter number of students:\"))\n",
        "  for i in range(num):\n",
        "    name.append(input(f\"Enter student {i+1} name:\"))\n",
        "    id.append(input(f\"Enter student {i+1} id:\"))\n",
        "    # end of for loop num\n",
        "  #print(name)\n",
        "  #print(id)\n",
        "  student['name'] = name\n",
        "  student['id'] = id\n",
        "\n",
        "  return student\n",
        "  # end of add_item function\n",
        "\n",
        "\n",
        "std = add_items()\n",
        "\n"
      ],
      "metadata": {
        "colab": {
          "base_uri": "https://localhost:8080/"
        },
        "id": "poU1jkhXF49s",
        "outputId": "ea610a61-6d16-4fae-e472-42820e59aed4"
      },
      "execution_count": null,
      "outputs": [
        {
          "output_type": "stream",
          "name": "stdout",
          "text": [
            "Enter number of students:1\n",
            "Enter student 1 name:std1\n",
            "Enter student 1 id:2021-1-60-001\n",
            "{'name': ['std1'], 'id': ['2021-1-60-001']}\n"
          ]
        }
      ]
    },
    {
      "cell_type": "code",
      "source": [],
      "metadata": {
        "id": "188YDjk7LaE7"
      },
      "execution_count": null,
      "outputs": []
    }
  ]
}