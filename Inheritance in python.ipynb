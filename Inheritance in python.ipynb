{
 "cells": [
  {
   "cell_type": "markdown",
   "metadata": {},
   "source": [
    "Inharitance........!"
   ]
  },
  {
   "cell_type": "code",
   "execution_count": 11,
   "metadata": {},
   "outputs": [
    {
     "name": "stdout",
     "output_type": "stream",
     "text": [
      "POSHU  is eating......!\n",
      "Kala kutta  can bark..!\n",
      "Kala kutta  is eating......!\n",
      "POSHU\n",
      "Kala kutta\n"
     ]
    }
   ],
   "source": [
    "class animal:\n",
    "    def __init__(self, name) -> None:\n",
    "        self.name=name\n",
    "\n",
    "    def eat(self):\n",
    "        print(self.name, \" is eating......!\")\n",
    "\n",
    "class dog(animal):  #chield class perent class er method or constructor sob access korte pare.....!\n",
    "    def barking(self):\n",
    "        print(self.name, ' can bark..!')\n",
    "\n",
    "#---------------------------------------------------------------\n",
    "        \n",
    "ob1=animal('POSHU')\n",
    "ob1.eat()\n",
    "\n",
    "ob2=dog(\"Kala kutta\")\n",
    "ob2.barking()\n",
    "ob2.eat()\n",
    "\n",
    "print(ob1.name)\n",
    "print(ob2.name)\n"
   ]
  },
  {
   "cell_type": "markdown",
   "metadata": {},
   "source": [
    " Hierarchical Inheritance | Method Resolution Order "
   ]
  },
  {
   "cell_type": "code",
   "execution_count": 23,
   "metadata": {},
   "outputs": [
    {
     "name": "stdout",
     "output_type": "stream",
     "text": [
      "Prinom  is doing lab\n",
      "Name:  Prinom \n",
      "ID:  100 \n",
      "\n",
      "Name:  Johora \n",
      "ID:  111 \n",
      "\n",
      "CSE der presure onek beshi.....!\n",
      "Johora Presetation deoa lage....!\n"
     ]
    }
   ],
   "source": [
    "class Student:\n",
    "    def __init__(self, name, id) -> None:\n",
    "        self.name=name\n",
    "        self.id=id\n",
    "\n",
    "    def details(self):\n",
    "        print(\"Name: \", self.name, \"\\nID: \", self.id,\"\\n\")\n",
    "\n",
    "    def do_class(self):\n",
    "        print(self.name, \" is doing class......!\")\n",
    "\n",
    "class cse_st(Student):\n",
    "    def __init__(self, name, id, labs) -> None:\n",
    "        super().__init__(name, id)\n",
    "        self.labs=labs\n",
    "        print(self.name, \" is doing lab\")\n",
    "\n",
    "    def cry(self):\n",
    "        print(\"CSE der presure onek beshi.....!\")\n",
    "\n",
    "\n",
    "class bba_st(Student):\n",
    "    #default constructor deoa lage na............! perent er ta pay.......!\n",
    "    def presentation(self):\n",
    "        print(self.name,\"Presetation deoa lage....!\")\n",
    "\n",
    "#------------------------------------------------------------------------------\n",
    "\n",
    "s1=cse_st(\"Prinom\", 100, 3)\n",
    "s2=bba_st(\"Johora\", 111)\n",
    "\n",
    "s1.details()\n",
    "s2.details()\n",
    "\n",
    "s1.cry()\n",
    "s2.presentation()\n",
    "\n",
    "\n",
    "    \n"
   ]
  },
  {
   "cell_type": "code",
   "execution_count": 24,
   "metadata": {},
   "outputs": [
    {
     "name": "stdout",
     "output_type": "stream",
     "text": [
      "Help on cse_st in module __main__ object:\n",
      "\n",
      "class cse_st(Student)\n",
      " |  cse_st(name, id, labs) -> None\n",
      " |\n",
      " |  Method resolution order:\n",
      " |      cse_st\n",
      " |      Student\n",
      " |      builtins.object\n",
      " |\n",
      " |  Methods defined here:\n",
      " |\n",
      " |  __init__(self, name, id, labs) -> None\n",
      " |      Initialize self.  See help(type(self)) for accurate signature.\n",
      " |\n",
      " |  cry(self)\n",
      " |\n",
      " |  ----------------------------------------------------------------------\n",
      " |  Methods inherited from Student:\n",
      " |\n",
      " |  details(self)\n",
      " |\n",
      " |  do_class(self)\n",
      " |\n",
      " |  ----------------------------------------------------------------------\n",
      " |  Data descriptors inherited from Student:\n",
      " |\n",
      " |  __dict__\n",
      " |      dictionary for instance variables (if defined)\n",
      " |\n",
      " |  __weakref__\n",
      " |      list of weak references to the object (if defined)\n",
      "\n",
      "None\n"
     ]
    }
   ],
   "source": [
    "print(help(s1))"
   ]
  },
  {
   "cell_type": "code",
   "execution_count": null,
   "metadata": {},
   "outputs": [],
   "source": []
  }
 ],
 "metadata": {
  "kernelspec": {
   "display_name": "Python 3",
   "language": "python",
   "name": "python3"
  },
  "language_info": {
   "codemirror_mode": {
    "name": "ipython",
    "version": 3
   },
   "file_extension": ".py",
   "mimetype": "text/x-python",
   "name": "python",
   "nbconvert_exporter": "python",
   "pygments_lexer": "ipython3",
   "version": "3.12.0"
  }
 },
 "nbformat": 4,
 "nbformat_minor": 2
}
