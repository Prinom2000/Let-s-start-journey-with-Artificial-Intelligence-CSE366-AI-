{
  "nbformat": 4,
  "nbformat_minor": 0,
  "metadata": {
    "colab": {
      "provenance": []
    },
    "kernelspec": {
      "name": "python3",
      "display_name": "Python 3"
    },
    "language_info": {
      "name": "python"
    }
  },
  "cells": [
    {
      "cell_type": "code",
      "source": [
        "!pip install numpy"
      ],
      "metadata": {
        "colab": {
          "base_uri": "https://localhost:8080/"
        },
        "id": "ZaVBeRnQG85j",
        "outputId": "f158738a-12a2-42d5-ae92-f282f8148773"
      },
      "execution_count": null,
      "outputs": [
        {
          "output_type": "stream",
          "name": "stdout",
          "text": [
            "Requirement already satisfied: numpy in /usr/local/lib/python3.10/dist-packages (1.25.2)\n"
          ]
        }
      ]
    },
    {
      "cell_type": "markdown",
      "source": [
        "# Basics of NumPy Arrays"
      ],
      "metadata": {
        "id": "DgoO5Prgs5V0"
      }
    },
    {
      "cell_type": "code",
      "source": [
        "import numpy as np"
      ],
      "metadata": {
        "id": "EwC3y3MUtL-T"
      },
      "execution_count": null,
      "outputs": []
    },
    {
      "cell_type": "markdown",
      "source": [
        "## Create NumPy arrays and inspect their attributes.\n",
        "\n",
        "Creating Arrays"
      ],
      "metadata": {
        "id": "ZVGcJJJ2tAJe"
      }
    },
    {
      "cell_type": "code",
      "execution_count": null,
      "metadata": {
        "colab": {
          "base_uri": "https://localhost:8080/"
        },
        "id": "JZQertF0qogi",
        "outputId": "05a249dc-5868-4426-cb4a-a8cee8ef3f81"
      },
      "outputs": [
        {
          "output_type": "stream",
          "name": "stdout",
          "text": [
            "1D Array: [1 2 3 4 5]\n",
            "\n",
            "2D Array:\n",
            " [[1 2 3]\n",
            " [4 5 6]]\n"
          ]
        }
      ],
      "source": [
        "# Create a 1D array from a list\n",
        "arr_1d = np.array([1, 2, 3, 4, 5])\n",
        "print(\"1D Array:\", arr_1d)\n",
        "\n",
        "# Create a 2D array from a nested list\n",
        "arr_2d = np.array([[1, 2, 3],\n",
        "                   [4, 5, 6]])\n",
        "print(\"\\n2D Array:\\n\", arr_2d)\n"
      ]
    },
    {
      "cell_type": "markdown",
      "source": [
        "Inspecting Array Attributes"
      ],
      "metadata": {
        "id": "-kXik2gMtGQ1"
      }
    },
    {
      "cell_type": "code",
      "source": [
        "# Print the shape, size, and data type of arr_2d\n",
        "print(\"Shape:\", arr_2d.shape)\n",
        "print(\"Size:\", arr_2d.size)\n",
        "print(\"Data Type:\", arr_2d.dtype)\n"
      ],
      "metadata": {
        "colab": {
          "base_uri": "https://localhost:8080/"
        },
        "id": "9mdUIRrRtEAZ",
        "outputId": "eaef383e-0cbb-4aba-9069-3ca0ef26eb04"
      },
      "execution_count": null,
      "outputs": [
        {
          "output_type": "stream",
          "name": "stdout",
          "text": [
            "Shape: (2, 3)\n",
            "Size: 6\n",
            "Data Type: int64\n"
          ]
        }
      ]
    },
    {
      "cell_type": "markdown",
      "source": [
        "# Array Creation Techniques\n",
        "Objective: Explore different ways to create arrays in NumPy."
      ],
      "metadata": {
        "id": "K3KI4UoTtyu1"
      }
    },
    {
      "cell_type": "code",
      "source": [
        "# Create an array filled with zeros\n",
        "zeros = np.zeros((2, 3))\n",
        "print(\"Zeros:\\n\", zeros)\n",
        "\n",
        "# Create an array filled with ones\n",
        "ones = np.ones((3, 2))\n",
        "print(\"\\nOnes:\\n\", ones)\n",
        "\n",
        "# Create an array with a range of elements\n",
        "range_array = np.arange(10)\n",
        "print(\"\\nRange Array:\", range_array)\n"
      ],
      "metadata": {
        "colab": {
          "base_uri": "https://localhost:8080/"
        },
        "id": "RYb_m83ntIOR",
        "outputId": "33e47608-ee03-46eb-c43c-51727532e0cd"
      },
      "execution_count": null,
      "outputs": [
        {
          "output_type": "stream",
          "name": "stdout",
          "text": [
            "Zeros:\n",
            " [[0. 0. 0.]\n",
            " [0. 0. 0.]]\n",
            "\n",
            "Ones:\n",
            " [[1. 1.]\n",
            " [1. 1.]\n",
            " [1. 1.]]\n",
            "\n",
            "Range Array: [0 1 2 3 4 5 6 7 8 9]\n"
          ]
        }
      ]
    },
    {
      "cell_type": "markdown",
      "source": [
        "## Reshaping and Flattening Arrays\n",
        "\n",
        "Objective: Modify the shape of arrays without changing their data."
      ],
      "metadata": {
        "id": "-ij_jTM7t6zq"
      }
    },
    {
      "cell_type": "code",
      "source": [
        "# Reshape arr_2d to 3x2\n",
        "reshaped = arr_2d.reshape((3, 2))\n",
        "print(\"Reshaped to 3x2:\\n\", reshaped)\n",
        "\n",
        "# Flatten arr_2d to a 1D array\n",
        "flattened = arr_2d.flatten()\n",
        "print(\"\\nFlattened Array:\", flattened)\n"
      ],
      "metadata": {
        "colab": {
          "base_uri": "https://localhost:8080/"
        },
        "id": "pOwWEY0qt1RJ",
        "outputId": "ba51c03a-0558-4a65-e9fa-ad0d9769e753"
      },
      "execution_count": null,
      "outputs": [
        {
          "output_type": "stream",
          "name": "stdout",
          "text": [
            "Reshaped to 3x2:\n",
            " [[1 2]\n",
            " [3 4]\n",
            " [5 6]]\n",
            "\n",
            "Flattened Array: [1 2 3 4 5 6]\n"
          ]
        }
      ]
    },
    {
      "cell_type": "markdown",
      "source": [
        "## Concatenating and Splitting Arrays\n",
        "\n",
        "Objective: Learn to combine and divide arrays."
      ],
      "metadata": {
        "id": "nAuPQkw2uC_k"
      }
    },
    {
      "cell_type": "code",
      "source": [
        "# Concatenate arr_1d and a new array\n",
        "arr_3 = np.array([6, 7, 8, 9, 10])\n",
        "concatenated = np.concatenate([arr_1d, arr_3])\n",
        "print(\"Concatenated Array:\", concatenated)\n",
        "\n",
        "# Split concatenated array into three parts\n",
        "split = np.split(concatenated, [5, 8])\n",
        "print(\"\\nSplit Array:\", split)\n"
      ],
      "metadata": {
        "colab": {
          "base_uri": "https://localhost:8080/"
        },
        "id": "cooUBvo_t-hc",
        "outputId": "5d3623e8-de3c-4abd-f62a-4e9ccf23511d"
      },
      "execution_count": null,
      "outputs": [
        {
          "output_type": "stream",
          "name": "stdout",
          "text": [
            "Concatenated Array: [ 1  2  3  4  5  6  7  8  9 10]\n",
            "\n",
            "Split Array: [array([1, 2, 3, 4, 5]), array([6, 7, 8]), array([ 9, 10])]\n"
          ]
        }
      ]
    },
    {
      "cell_type": "markdown",
      "source": [
        "# Linear Algebra and Statistical Operations\n",
        "\n",
        "## Matrix Operations\n",
        "\n",
        "Objective: Perform basic linear algebra operations."
      ],
      "metadata": {
        "id": "ClHF_JaMuIeX"
      }
    },
    {
      "cell_type": "code",
      "source": [
        "# Matrix multiplication\n",
        "A = np.array([[1, 2], [3, 4]])\n",
        "B = np.array([[5, 6], [7, 8]])\n",
        "product = np.dot(A, B)\n",
        "print(\"Matrix Product:\\n\", product)\n",
        "\n",
        "# Find the determinant of A\n",
        "det_A = np.linalg.det(A)\n",
        "print(\"\\nDeterminant of A:\", det_A)\n"
      ],
      "metadata": {
        "colab": {
          "base_uri": "https://localhost:8080/"
        },
        "id": "t8guEO3ouFDD",
        "outputId": "585feb17-bbc0-4f42-a38a-dcff71482ac1"
      },
      "execution_count": null,
      "outputs": [
        {
          "output_type": "stream",
          "name": "stdout",
          "text": [
            "Matrix Product:\n",
            " [[19 22]\n",
            " [43 50]]\n",
            "\n",
            "Determinant of A: -2.0000000000000004\n"
          ]
        }
      ]
    },
    {
      "cell_type": "markdown",
      "source": [
        "## Statistical Analysis\n",
        "\n",
        "Objective: Apply statistical methods to analyze data."
      ],
      "metadata": {
        "id": "ZErRvZ1juPEq"
      }
    },
    {
      "cell_type": "code",
      "source": [
        "# Calculate mean, median, and standard deviation\n",
        "data = np.array([1, 2, 3, 4, 4, 5, 6, 7, 8, 9, 10])\n",
        "print(\"Mean:\", np.mean(data))\n",
        "print(\"Median:\", np.median(data))\n",
        "print(\"Standard Deviation:\", np.std(data))\n",
        "\n",
        "# Find unique elements and their counts\n",
        "unique_elements, counts = np.unique(data, return_counts=True)\n",
        "print(\"\\nUnique Elements:\", unique_elements)\n",
        "print(\"Counts:\", counts)\n"
      ],
      "metadata": {
        "colab": {
          "base_uri": "https://localhost:8080/"
        },
        "id": "_JU0pDBAuMqr",
        "outputId": "c490601e-6ee1-41b3-feff-3d5c9c61c8e8"
      },
      "execution_count": null,
      "outputs": [
        {
          "output_type": "stream",
          "name": "stdout",
          "text": [
            "Mean: 5.363636363636363\n",
            "Median: 5.0\n",
            "Standard Deviation: 2.7723546694503467\n",
            "\n",
            "Unique Elements: [ 1  2  3  4  5  6  7  8  9 10]\n",
            "Counts: [1 1 1 2 1 1 1 1 1 1]\n"
          ]
        }
      ]
    },
    {
      "cell_type": "markdown",
      "source": [
        "## Uniform Distribution\n",
        "\n",
        "The uniform distribution is perhaps the simplest type of distribution, representing an equal probability of all values in a specified range."
      ],
      "metadata": {
        "id": "2e3E0U28tgET"
      }
    },
    {
      "cell_type": "code",
      "source": [
        "import numpy as np\n",
        "\n",
        "# Generate 10 random numbers from a uniform distribution between 0 and 1\n",
        "uniform_data = np.random.rand(10)\n",
        "\n",
        "# Generate 10 random numbers from a uniform distribution between 10 and 20\n",
        "uniform_data_scaled = np.random.uniform(10, 20, 10)\n",
        "\n",
        "print(\"Uniform distribution [0, 1):\")\n",
        "print(uniform_data)\n",
        "print(\"\\nUniform distribution [10, 20):\")\n",
        "print(uniform_data_scaled)\n"
      ],
      "metadata": {
        "id": "IxlZ1aNcuQ-_",
        "colab": {
          "base_uri": "https://localhost:8080/"
        },
        "outputId": "5d4547a7-083a-40ea-a748-d0637027b183"
      },
      "execution_count": null,
      "outputs": [
        {
          "output_type": "stream",
          "name": "stdout",
          "text": [
            "Uniform distribution [0, 1):\n",
            "[0.88786461 0.17253161 0.59185782 0.45923683 0.29506678 0.12091534\n",
            " 0.78130072 0.86229891 0.55054714 0.53291416]\n",
            "\n",
            "Uniform distribution [10, 20):\n",
            "[18.39160865 11.75813954 13.78375639 16.87141899 19.79160687 13.34972703\n",
            " 11.06234439 17.10452877 11.91117082 11.4258339 ]\n"
          ]
        }
      ]
    },
    {
      "cell_type": "markdown",
      "source": [
        "## Normal (Gaussian) Distribution\n",
        "\n",
        "The normal distribution is a common continuous probability distribution, often used in the natural and social sciences to represent real-valued random variables whose distributions are not known."
      ],
      "metadata": {
        "id": "qHsLbex5t13k"
      }
    },
    {
      "cell_type": "code",
      "source": [
        "# Generate 10 random numbers from a normal distribution with mean=0 and std=1\n",
        "normal_data = np.random.randn(10)\n",
        "\n",
        "# Generate 10 random numbers from a normal distribution with mean=50 and std=10\n",
        "normal_data_scaled = np.random.normal(50, 10, 10)\n",
        "\n",
        "print(\"Standard normal distribution (mean=0, std=1):\")\n",
        "print(normal_data)\n",
        "print(\"\\nNormal distribution (mean=50, std=10):\")\n",
        "print(normal_data_scaled)\n"
      ],
      "metadata": {
        "colab": {
          "base_uri": "https://localhost:8080/"
        },
        "id": "c4kVX-eytkdZ",
        "outputId": "c28bd000-f2fc-4ede-cca0-9b8dd34fda9d"
      },
      "execution_count": null,
      "outputs": [
        {
          "output_type": "stream",
          "name": "stdout",
          "text": [
            "Standard normal distribution (mean=0, std=1):\n",
            "[-0.02482656 -0.64325989  0.06757503 -0.28233546  0.25361988  1.05651917\n",
            "  0.29388544  0.16363496 -1.54330896  0.22661058]\n",
            "\n",
            "Normal distribution (mean=50, std=10):\n",
            "[56.64931756 55.83339035 57.47466779 51.84996898 35.84426471 38.06161215\n",
            " 49.50153814 47.77231215 42.08710584 43.40909444]\n"
          ]
        }
      ]
    },
    {
      "cell_type": "markdown",
      "source": [
        "## Binomial Distribution\n",
        "\n",
        "The binomial distribution represents the number of successes in a sequence of independent experiments."
      ],
      "metadata": {
        "id": "rOKBbQpuuBny"
      }
    },
    {
      "cell_type": "code",
      "source": [
        "# Generate 10 random numbers from a binomial distribution with n=10 and p=0.5\n",
        "binomial_data = np.random.binomial(n=10, p=0.5, size=10)\n",
        "\n",
        "print(\"Binomial distribution (n=10, p=0.5):\")\n",
        "print(binomial_data)\n"
      ],
      "metadata": {
        "colab": {
          "base_uri": "https://localhost:8080/"
        },
        "id": "g9VKj0jit_HA",
        "outputId": "d5ec6862-949a-461f-e8fe-87cfb94efda7"
      },
      "execution_count": null,
      "outputs": [
        {
          "output_type": "stream",
          "name": "stdout",
          "text": [
            "Binomial distribution (n=10, p=0.5):\n",
            "[5 6 4 4 8 5 3 6 6 5]\n"
          ]
        }
      ]
    },
    {
      "cell_type": "markdown",
      "source": [
        "## Poisson Distribution\n",
        "The Poisson distribution is a discrete distribution that expresses the probability of a given number of events occurring in a fixed interval of time or space."
      ],
      "metadata": {
        "id": "e-wBmZGauLQT"
      }
    },
    {
      "cell_type": "code",
      "source": [
        "# Generate 10 random numbers from a Poisson distribution with lambda=3\n",
        "poisson_data = np.random.poisson(lam=3, size=10)\n",
        "\n",
        "print(\"Poisson distribution (lambda=3):\")\n",
        "print(poisson_data)\n"
      ],
      "metadata": {
        "colab": {
          "base_uri": "https://localhost:8080/"
        },
        "id": "Mibs3XEIuGQH",
        "outputId": "77e1580b-be29-4f29-cc7f-31adb063b87c"
      },
      "execution_count": null,
      "outputs": [
        {
          "output_type": "stream",
          "name": "stdout",
          "text": [
            "Poisson distribution (lambda=3):\n",
            "[5 6 4 1 2 8 0 3 1 3]\n"
          ]
        }
      ]
    },
    {
      "cell_type": "markdown",
      "source": [
        "## Customizing Random Number Generation\n",
        "NumPy's random module also supports seeding the random number generator, which can be useful for creating reproducible results during testing or analysis."
      ],
      "metadata": {
        "id": "TxFw-VquuVCc"
      }
    },
    {
      "cell_type": "code",
      "source": [
        "# Seed the random number generator for reproducibility\n",
        "np.random.seed(85)\n",
        "\n",
        "# Now, generate random numbers as before\n",
        "uniform_data_seeded = np.random.rand(5)\n",
        "print(\"Uniform distribution with seed (42):\")\n",
        "print(uniform_data_seeded)\n"
      ],
      "metadata": {
        "colab": {
          "base_uri": "https://localhost:8080/"
        },
        "id": "AktUGcu2uN-y",
        "outputId": "060b8e23-48db-46f4-d491-f358382277e5"
      },
      "execution_count": null,
      "outputs": [
        {
          "output_type": "stream",
          "name": "stdout",
          "text": [
            "Uniform distribution with seed (42):\n",
            "[0.62037381 0.50895307 0.29824484 0.65379871 0.27350653]\n"
          ]
        }
      ]
    },
    {
      "cell_type": "code",
      "source": [],
      "metadata": {
        "id": "dAO_VJwzuX64"
      },
      "execution_count": null,
      "outputs": []
    }
  ]
}