{
  "cells": [
    {
      "cell_type": "code",
      "execution_count": 1,
      "metadata": {
        "colab": {
          "base_uri": "https://localhost:8080/"
        },
        "id": "UjSY83L-nmaO",
        "outputId": "a83d4e4d-4d8f-4fef-881f-3a45ee48ef01"
      },
      "outputs": [
        {
          "name": "stdout",
          "output_type": "stream",
          "text": [
            "Prinom  is doing lab\n",
            "Name:  Prinom \n",
            "ID:  100 \n",
            "\n",
            "Name:  Johora \n",
            "ID:  111 \n",
            "\n",
            "CSE der presure onek beshi.....!\n",
            "Johora Presetation deoa lage....!\n"
          ]
        }
      ],
      "source": [
        "class Student:\n",
        "    def __init__(self, name, id) -> None:\n",
        "        self.name=name\n",
        "        self.id=id\n",
        "\n",
        "    def details(self):\n",
        "        print(\"Name: \", self.name, \"\\nID: \", self.id,\"\\n\")\n",
        "\n",
        "    def do_class(self):\n",
        "        print(self.name, \" is doing class......!\")\n",
        "\n",
        "class cse_st(Student):\n",
        "    def __init__(self, name, id, labs) -> None:\n",
        "        super().__init__(name, id)\n",
        "        self.labs=labs\n",
        "        print(self.name, \" is doing lab\")\n",
        "\n",
        "    def cry(self):\n",
        "        print(\"CSE der presure onek beshi.....!\")\n",
        "\n",
        "\n",
        "class bba_st(Student):\n",
        "    #default constructor deoa lage na............! perent er ta pay.......!\n",
        "    def presentation(self):\n",
        "        print(self.name,\"Presetation deoa lage....!\")\n",
        "\n",
        "#------------------------------------------------------------------------------\n",
        "\n",
        "s1=cse_st(\"Prinom\", 100, 3)\n",
        "s2=bba_st(\"Johora\", 111)\n",
        "\n",
        "s1.details()\n",
        "s2.details()\n",
        "\n",
        "s1.cry()\n",
        "s2.presentation()\n"
      ]
    },
    {
      "cell_type": "markdown",
      "metadata": {
        "id": "ngRzWQvgo1-v"
      },
      "source": [
        "Multi-level Inheritence............!"
      ]
    },
    {
      "cell_type": "code",
      "execution_count": 7,
      "metadata": {
        "colab": {
          "base_uri": "https://localhost:8080/"
        },
        "id": "TAaYOCGiopQG",
        "outputId": "a930df47-ff1d-495b-8641-59afe5986651"
      },
      "outputs": [
        {
          "name": "stdout",
          "output_type": "stream",
          "text": [
            "prinom  is doing lab\n",
            "CSE der presure onek beshi.....!\n",
            "prinom  is doing class......!\n",
            "Name:  prinom \n",
            "ID:  202 \n",
            "\n"
          ]
        }
      ],
      "source": [
        "class Student:\n",
        "    def __init__(self, name, id) -> None:\n",
        "        self.name=name\n",
        "        self.id=id\n",
        "\n",
        "    def details(self):\n",
        "        print(\"Name: \", self.name, \"\\nID: \", self.id,\"\\n\")\n",
        "\n",
        "    def do_class(self):\n",
        "        print(self.name, \" is doing class......!\")\n",
        "\n",
        "class cse_st(Student):\n",
        "    def __init__(self, name, id, labs) -> None:\n",
        "        super().__init__(name, id)\n",
        "        self.labs=labs\n",
        "        print(self.name, \" is doing lab\")\n",
        "\n",
        "    def cry(self):\n",
        "        print(\"CSE der presure onek beshi.....!\")\n",
        "\n",
        "\n",
        "class bba_st(Student):\n",
        "    #default constructor deoa lage na............! perent er ta pay.......!\n",
        "    def presentation(self):\n",
        "        print(self.name,\"Presetation deoa lage....!\")\n",
        "\n",
        "class Cse_fresher(cse_st):\n",
        "  def enroll_cse103(self):\n",
        "    print('Fresher der cse103 kora lage.......!')\n",
        "\n",
        "\n",
        "\n",
        "#------------------------------------------------------------------------------\n",
        "\n",
        "s3=Cse_fresher('prinom', 202,3)  # self class\n",
        "\n",
        "s3.cry()   # level 1 perent class\n",
        "\n",
        "s3.do_class()   # level max perent class.......!   (bapero bab ase)\n",
        "s3.details()   # level max perent class.......!\n"
      ]
    },
    {
      "cell_type": "markdown",
      "metadata": {
        "id": "WDT56Hu1sKoO"
      },
      "source": [
        "--- Multiple inheritence"
      ]
    },
    {
      "cell_type": "code",
      "execution_count": 11,
      "metadata": {
        "colab": {
          "base_uri": "https://localhost:8080/"
        },
        "id": "xSyMexwYqJle",
        "outputId": "a5576dae-a1c9-4f79-c189-447657404020"
      },
      "outputs": [
        {
          "name": "stdout",
          "output_type": "stream",
          "text": [
            "init from class C.........!\n",
            "Method 1 from A\n"
          ]
        }
      ],
      "source": [
        "class a:\n",
        "  def __init__(self) -> None:\n",
        "      print(\"init from class A.........!\")\n",
        "\n",
        "  def method1(self):\n",
        "    print('Method 1 from A')\n",
        "\n",
        "class b:\n",
        "  def __init__(self) -> None:\n",
        "      print(\"init from class B.........!\")\n",
        "\n",
        "  def method2(self):\n",
        "    print('Method 1 from B')\n",
        "\n",
        "class c(a,b):\n",
        "  def __init__(self) -> None:\n",
        "      print(\"init from class C.........!\")\n",
        "\n",
        "  def method3(self):\n",
        "    print('Method 1 from C')\n",
        "#---------------------------------------------------------------------\n",
        "\n",
        "ob1=c()\n",
        "ob1.method1()\n"
      ]
    },
    {
      "cell_type": "code",
      "execution_count": 17,
      "metadata": {
        "colab": {
          "base_uri": "https://localhost:8080/"
        },
        "id": "HVvATZYDut1M",
        "outputId": "4c913e4d-ac6b-4ab6-f936-f1fde5e4659f"
      },
      "outputs": [
        {
          "name": "stdout",
          "output_type": "stream",
          "text": [
            "init from class C.........!\n",
            "Method 1 from A\n",
            "Method 1 from B\n"
          ]
        }
      ],
      "source": [
        "class a:\n",
        "  def __init__(self) -> None:\n",
        "      print(\"init from class A.........!\")\n",
        "\n",
        "  def method1(self):\n",
        "    print('Method 1 from A')\n",
        "\n",
        "class b:\n",
        "  def __init__(self) -> None:\n",
        "      print(\"init from class B.........!\")\n",
        "\n",
        "  def method1(self):   # same name of method1 like class A.......!\n",
        "    print('Method 1 from B')\n",
        "\n",
        "class c(a,b):\n",
        "  def __init__(self) -> None:\n",
        "      print(\"init from class C.........!\")\n",
        "\n",
        "  def method3(self):\n",
        "    print('Method 1 from C')\n",
        "#---------------------------------------------------------------------\n",
        "\n",
        "ob1=c()\n",
        "ob1.method1()  # fa & grand fa er moddhe Grand_fa er kotha shunbo.......!\n",
        "                # so Method 1 from A call ho0be....!\n",
        "\n",
        "\n",
        "b.method1(ob1)  # so by calling  b.method1(ob1)  we can acces the method of class:b\n",
        "\n",
        "\n"
      ]
    },
    {
      "cell_type": "markdown",
      "metadata": {
        "id": "HkSSwqeI2C-U"
      },
      "source": [
        "Inheritance..... 366(AI)"
      ]
    },
    {
      "cell_type": "code",
      "execution_count": 5,
      "metadata": {
        "id": "SrQUW1oQv86T"
      },
      "outputs": [
        {
          "name": "stdout",
          "output_type": "stream",
          "text": [
            "Make:  Tata, \n",
            "Model:  Corolla, \n",
            "Odometer: 0 miles.\n"
          ]
        },
        {
          "data": {
            "text/plain": [
              "'The car has driven 0 miles.'"
            ]
          },
          "execution_count": 5,
          "metadata": {},
          "output_type": "execute_result"
        }
      ],
      "source": [
        "class Car:\n",
        "    def __init__(self, make, model):\n",
        "        self.make = make\n",
        "        self.model = model\n",
        "        self.odometer = 0\n",
        "\n",
        "    def drive(self, miles):\n",
        "        self.odometer += miles\n",
        "        return f\"The car has driven {self.odometer} miles.\"\n",
        "\n",
        "    def __str__(self):  #  print(my_car) dile/ print(name of obj) dile this function call hoy\n",
        "        return f\"Make:  {self.make}, \\nModel:  {self.model}, \\nOdometer: {self.odometer} miles.\"\n",
        "\n",
        "\n",
        "\n",
        "my_car= Car('Tata', 'Corolla')\n",
        "print(my_car)\n",
        "my_car.drive(0)\n",
        "# my_car.__str__() # this is the wrong way........\n",
        "\n",
        "\n"
      ]
    },
    {
      "cell_type": "code",
      "execution_count": 6,
      "metadata": {
        "id": "u3HJEhcX2OIp"
      },
      "outputs": [],
      "source": [
        "class ElectricCar(Car):  # Inherits from Car\n",
        "    def __init__(self, make, model, battery_size):\n",
        "        super().__init__(make, model)  # Initialize attributes of the parent class\n",
        "        self.battery_size = battery_size  # New attribute for ElectricCar ## mileage of the car/ koto mile jete parbe...\n",
        "        self.charge_level = 100  # Percentage\n",
        "\n",
        "    def charge(self):\n",
        "        self.charge_level=100\n",
        "        print(\"The car is fully charged.........!\")\n",
        "\n",
        "    def drive(self, miles):\n",
        "        if(miles> (self.charge_level/100)* self.battery_size):\n",
        "            print(\"Can not drive \",miles, \" miles. Not enough battery...!\")\n",
        "        else:\n",
        "            self.odometer +=miles\n",
        "            self.charge_level -= (miles/self.battery_size) * 100\n",
        "            return f\"The car has driven {self.odometer} miles, charge level at {self.charge_level}%.\"\n",
        "\n"
      ]
    },
    {
      "cell_type": "code",
      "execution_count": 8,
      "metadata": {
        "id": "m6fwyOxj2OLL"
      },
      "outputs": [
        {
          "name": "stdout",
          "output_type": "stream",
          "text": [
            "The car has driven 150 miles, charge level at 50.0%.\n"
          ]
        }
      ],
      "source": [
        "tesla = ElectricCar('Tesla', 'Model 3', 300)\n",
        "print(tesla.drive(150)) \n"
      ]
    },
    {
      "cell_type": "code",
      "execution_count": 9,
      "metadata": {
        "id": "sOf6axxJ2ONZ"
      },
      "outputs": [
        {
          "name": "stdout",
          "output_type": "stream",
          "text": [
            "The car is fully charged.........!\n",
            "None\n",
            "Make:  Tesla, \n",
            "Model:  Model 3, \n",
            "Odometer: 150 miles.\n"
          ]
        }
      ],
      "source": [
        "print(tesla.charge())  \n",
        "print(tesla)"
      ]
    },
    {
      "cell_type": "code",
      "execution_count": 10,
      "metadata": {
        "id": "pHUPEr_12OPG"
      },
      "outputs": [
        {
          "name": "stdout",
          "output_type": "stream",
          "text": [
            "The car has driven 300 miles, charge level at 50.0%.\n"
          ]
        }
      ],
      "source": [
        "print(tesla.drive(150)) "
      ]
    },
    {
      "cell_type": "code",
      "execution_count": 11,
      "metadata": {},
      "outputs": [
        {
          "name": "stdout",
          "output_type": "stream",
          "text": [
            "The car has driven 450 miles, charge level at 0.0%.\n"
          ]
        }
      ],
      "source": [
        "print(tesla.drive(150)) "
      ]
    },
    {
      "cell_type": "code",
      "execution_count": 12,
      "metadata": {},
      "outputs": [
        {
          "name": "stdout",
          "output_type": "stream",
          "text": [
            "Can not drive  150  miles. Not enough battery...!\n",
            "None\n"
          ]
        }
      ],
      "source": [
        "print(tesla.drive(150)) "
      ]
    },
    {
      "cell_type": "code",
      "execution_count": 13,
      "metadata": {},
      "outputs": [
        {
          "name": "stdout",
          "output_type": "stream",
          "text": [
            "The car is fully charged.........!\n",
            "None\n"
          ]
        }
      ],
      "source": [
        "print(tesla.charge())"
      ]
    },
    {
      "cell_type": "code",
      "execution_count": 14,
      "metadata": {},
      "outputs": [
        {
          "name": "stdout",
          "output_type": "stream",
          "text": [
            "The car has driven 600 miles, charge level at 50.0%.\n"
          ]
        }
      ],
      "source": [
        "print(tesla.drive(150)) "
      ]
    },
    {
      "cell_type": "code",
      "execution_count": null,
      "metadata": {},
      "outputs": [],
      "source": []
    }
  ],
  "metadata": {
    "colab": {
      "provenance": []
    },
    "kernelspec": {
      "display_name": "Python 3",
      "name": "python3"
    },
    "language_info": {
      "codemirror_mode": {
        "name": "ipython",
        "version": 3
      },
      "file_extension": ".py",
      "mimetype": "text/x-python",
      "name": "python",
      "nbconvert_exporter": "python",
      "pygments_lexer": "ipython3",
      "version": "3.12.0"
    }
  },
  "nbformat": 4,
  "nbformat_minor": 0
}
