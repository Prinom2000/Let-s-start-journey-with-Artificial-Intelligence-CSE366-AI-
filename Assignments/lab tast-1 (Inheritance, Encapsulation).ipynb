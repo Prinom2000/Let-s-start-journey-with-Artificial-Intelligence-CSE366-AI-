{
 "cells": [
  {
   "cell_type": "markdown",
   "metadata": {},
   "source": [
    "1"
   ]
  },
  {
   "cell_type": "code",
   "execution_count": 11,
   "metadata": {},
   "outputs": [
    {
     "name": "stdout",
     "output_type": "stream",
     "text": [
      "ID:  100      Name:  Prinom      Dept:  Cse\n",
      "ID:  101      Name:  Joba      Dept:  Cse\n",
      "ID:  102      Name:  Hiridoy      Dept:  Geb\n"
     ]
    }
   ],
   "source": [
    "class employee:\n",
    "    def __init__(self, id, name, dept):  \n",
    "        self.id=id \n",
    "        self.name=name \n",
    "        self.dept=dept \n",
    "    \n",
    "    def display_info(self):  #ins method\n",
    "        print(\"ID: \",self.id,\"     Name: \", self.name, '     Dept: ', self.dept)\n",
    "\n",
    "em1= employee(100,'Prinom', 'Cse')\n",
    "em2= employee(101,'Joba', 'Cse')\n",
    "em3= employee(102,'Hiridoy', 'Geb')\n",
    "\n",
    "em1.display_info()\n",
    "em2.display_info()\n",
    "em3.display_info()\n"
   ]
  },
  {
   "cell_type": "code",
   "execution_count": 14,
   "metadata": {},
   "outputs": [
    {
     "name": "stdout",
     "output_type": "stream",
     "text": [
      "ID:  104      Name:  Ani      Dept:  Geb     Team size:  3\n",
      "ID:  105      Name:  Anima      Dept:  Cse     Duration:  5\n"
     ]
    }
   ],
   "source": [
    "class Manager(employee):\n",
    "    def __init__(self, id, name, dept,team_size):\n",
    "        super().__init__(id, name, dept)\n",
    "        self.team_size=team_size\n",
    "\n",
    "    def display_info(self):  #ins method\n",
    "        print(\"ID: \",self.id,\"     Name: \", self.name, '     Dept: ', self.dept, '    Team size: ', self.team_size)\n",
    "\n",
    "class Intern(employee):\n",
    "    def __init__(self, id, name, dept,duration):\n",
    "        super().__init__(id, name, dept)\n",
    "        self.duration=duration\n",
    "\n",
    "    def display_info(self):  #ins method\n",
    "        print(\"ID: \",self.id,\"     Name: \", self.name, '     Dept: ', self.dept, '    Duration: ', self.duration)\n",
    "\n",
    "\n",
    "m1=Manager(104,'Ani', 'Geb',3)\n",
    "m1.display_info()\n",
    "\n",
    "i1=Intern(105,'Anima', 'Cse',5)\n",
    "i1.display_info()\n",
    "\n",
    "\n",
    "\n",
    "\n"
   ]
  },
  {
   "cell_type": "markdown",
   "metadata": {},
   "source": [
    "ENCAPSULATION::::::::::::\n"
   ]
  },
  {
   "cell_type": "code",
   "execution_count": 17,
   "metadata": {},
   "outputs": [
    {
     "name": "stdout",
     "output_type": "stream",
     "text": [
      "ID:  104      Name:  Ani      Dept:  Geb\n",
      "    Team size:  3\n",
      "Manager ID: 104\n",
      "ID:  105      Name:  Anima      Dept:  Cse\n",
      "    Duration:  5\n",
      "Intern Duration: 6\n"
     ]
    }
   ],
   "source": [
    "class Employee:\n",
    "    def __init__(self, id, name, dept):\n",
    "        self.id = id\n",
    "        self.name = name\n",
    "        self.dept = dept\n",
    "\n",
    "    def get_id(self):\n",
    "        return self.id\n",
    "\n",
    "    def set_id(self, id):\n",
    "        self.id = id\n",
    "\n",
    "    def get_name(self):\n",
    "        return self.name\n",
    "\n",
    "    def set_name(self, name):\n",
    "        self.name = name\n",
    "\n",
    "    def get_dept(self):\n",
    "        return self.dept\n",
    "\n",
    "    def set_dept(self, dept):\n",
    "        self.dept = dept\n",
    "\n",
    "    def display_info(self):\n",
    "        print(\"ID: \", self.id, \"     Name: \", self.name, '     Dept: ', self.dept)\n",
    "\n",
    "\n",
    "class Manager(Employee):\n",
    "    def __init__(self, id, name, dept, team_size):\n",
    "        super().__init__(id, name, dept)\n",
    "        self.team_size = team_size\n",
    "\n",
    "    def get_team_size(self):\n",
    "        return self.team_size\n",
    "\n",
    "    def set_team_size(self, team_size):\n",
    "        self.team_size = team_size\n",
    "\n",
    "    def display_info(self):\n",
    "        super().display_info()\n",
    "        print('    Team size: ', self.team_size)\n",
    "\n",
    "\n",
    "class Intern(Employee):\n",
    "    def __init__(self, id, name, dept, duration):\n",
    "        super().__init__(id, name, dept)\n",
    "        self.duration = duration\n",
    "\n",
    "    def get_duration(self):\n",
    "        return self.duration\n",
    "\n",
    "    def set_duration(self, duration):\n",
    "        self.duration = duration\n",
    "\n",
    "    def display_info(self):\n",
    "        super().display_info()\n",
    "        print('    Duration: ', self.duration)\n",
    "\n",
    "m1 = Manager(104, 'Ani', 'Geb', 3)\n",
    "m1.display_info()\n",
    "print(\"Manager ID:\", m1.get_id())\n",
    "\n",
    "i1 = Intern(105, 'Anima', 'Cse', 5)\n",
    "i1.display_info()\n",
    "i1.set_duration(6)\n",
    "print(\"Intern Duration:\", i1.get_duration())\n"
   ]
  },
  {
   "cell_type": "code",
   "execution_count": null,
   "metadata": {},
   "outputs": [],
   "source": []
  },
  {
   "cell_type": "code",
   "execution_count": 19,
   "metadata": {},
   "outputs": [],
   "source": [
    "class EmployeeManagement:\n",
    "\n",
    "    def init (self):\n",
    "\n",
    "        self. employees =[]\n",
    "\n",
    "    def add_employee(self, employee): self._employees.append(employee)\n",
    "\n",
    "    def remove_employee(self, emp_id): \n",
    "        for employee in self._employees: \n",
    "            if employee.get_emp_id()== emp_id: \n",
    "                self._employees.remove(employee) \n",
    "                print (f\"Employee ID {emp_id} removed.\") \n",
    "                return\n",
    "\n",
    "        print(\"Employee not found.\")\n",
    "\n",
    "    def display_all_employees(self): \n",
    "        for employee in self._employees:\n",
    "\n",
    "            employee.display_info()\n",
    "            print(\"-------------\")"
   ]
  },
  {
   "cell_type": "code",
   "execution_count": 21,
   "metadata": {},
   "outputs": [],
   "source": [
    "if __name__ == '__main_':\n",
    "\n",
    "    emp_mgmt=EmployeeManagement()\n",
    "\n",
    "\n",
    "    obj_emp=Employee(\"Alice\", \"E001\", \"HR\")\n",
    "\n",
    "    emp_mgmt.add_employee(obj_emp)\n",
    "    emp_mgmt.add_employee (Manager(\"Bob\", \"E002\", \"Engineering\", 10))\n",
    "    emp_mgmt.add_employee(Intern(\"Charlie\", \"E003\", \"Marketing\", 6)) \n",
    "    emp_mgmt.add_employee(Intern(\"Charlie\", \"E003\", \"Marketing\", 6))\n",
    "\n",
    "\n",
    "    print(\"All Employees:\")\n",
    "\n",
    "    emp_mgmt.display_all_employees()\n",
    "\n",
    "\n",
    "    emp_mgmt.remove_employee(\"E001\")\n",
    "\n",
    "\n",
    "\n",
    "    print(\"\\nAfter Removal:\")\n",
    "    emp_mgmt.display_all_employees()"
   ]
  },
  {
   "cell_type": "code",
   "execution_count": 22,
   "metadata": {},
   "outputs": [
    {
     "name": "stdout",
     "output_type": "stream",
     "text": [
      "ALL employees\n",
      "ID:  Alice      Name:  E001      Dept:  HR\n",
      "..........\n",
      "ID:  Bob      Name:  E002      Dept:  Engineering\n",
      "    Team size:  10\n",
      "..........\n",
      "ID:  Charlie      Name:  E003      Dept:  Marketing\n",
      "    Duration:  6\n",
      "..........\n",
      "ID:  Charlie      Name:  E003      Dept:  Marketing\n",
      "    Duration:  6\n",
      "..........\n"
     ]
    },
    {
     "ename": "AttributeError",
     "evalue": "'Employee' object has no attribute 'get_emp_id'",
     "output_type": "error",
     "traceback": [
      "\u001b[1;31m---------------------------------------------------------------------------\u001b[0m",
      "\u001b[1;31mAttributeError\u001b[0m                            Traceback (most recent call last)",
      "Cell \u001b[1;32mIn[22], line 39\u001b[0m\n\u001b[0;32m     36\u001b[0m     \u001b[38;5;28mprint\u001b[39m(\u001b[38;5;124m\"\u001b[39m\u001b[38;5;124mALL employees\u001b[39m\u001b[38;5;124m\"\u001b[39m)\n\u001b[0;32m     37\u001b[0m     emp_mgmt\u001b[38;5;241m.\u001b[39mdisplay_all_employees()\n\u001b[1;32m---> 39\u001b[0m     \u001b[43memp_mgmt\u001b[49m\u001b[38;5;241;43m.\u001b[39;49m\u001b[43mremove_employee\u001b[49m\u001b[43m(\u001b[49m\u001b[38;5;124;43m\"\u001b[39;49m\u001b[38;5;124;43mE001\u001b[39;49m\u001b[38;5;124;43m\"\u001b[39;49m\u001b[43m)\u001b[49m\n\u001b[0;32m     41\u001b[0m \u001b[38;5;66;03m# Display All Employees After Removal \u001b[39;00m\n\u001b[0;32m     42\u001b[0m     \u001b[38;5;28mprint\u001b[39m(\u001b[38;5;124m\"\u001b[39m\u001b[38;5;130;01m\\n\u001b[39;00m\u001b[38;5;124mAfter Removal:\u001b[39m\u001b[38;5;124m\"\u001b[39m) \n",
      "Cell \u001b[1;32mIn[22], line 14\u001b[0m, in \u001b[0;36mEmployeeManagement.remove_employee\u001b[1;34m(self, emp_id)\u001b[0m\n\u001b[0;32m     12\u001b[0m \u001b[38;5;28;01mdef\u001b[39;00m \u001b[38;5;21mremove_employee\u001b[39m(\u001b[38;5;28mself\u001b[39m, emp_id): \n\u001b[0;32m     13\u001b[0m     \u001b[38;5;28;01mfor\u001b[39;00m employee \u001b[38;5;129;01min\u001b[39;00m \u001b[38;5;28mself\u001b[39m\u001b[38;5;241m.\u001b[39m_employees: \n\u001b[1;32m---> 14\u001b[0m         \u001b[38;5;28;01mif\u001b[39;00m \u001b[43memployee\u001b[49m\u001b[38;5;241;43m.\u001b[39;49m\u001b[43mget_emp_id\u001b[49m() \u001b[38;5;241m==\u001b[39m emp_id: \n\u001b[0;32m     15\u001b[0m            \u001b[38;5;28mself\u001b[39m\u001b[38;5;241m.\u001b[39m_employees\u001b[38;5;241m.\u001b[39mremove(employee)\n\u001b[0;32m     16\u001b[0m            \u001b[38;5;28mprint\u001b[39m(\u001b[38;5;124mf\u001b[39m\u001b[38;5;124m\"\u001b[39m\u001b[38;5;124mEmployee ID (emp_id) removed.\u001b[39m\u001b[38;5;124m\"\u001b[39m) \n",
      "\u001b[1;31mAttributeError\u001b[0m: 'Employee' object has no attribute 'get_emp_id'"
     ]
    }
   ],
   "source": [
    "\n",
    "class EmployeeManagement: \n",
    "    def __init__(self):\n",
    "        self._employees = []\n",
    "\n",
    "    def add_employee(self, employee): \n",
    "        self._employees.append(employee)\n",
    "\n",
    "    def remove_employee(self, emp_id): \n",
    "        for employee in self._employees: \n",
    "            if employee.get_emp_id() == emp_id: \n",
    "               self._employees.remove(employee)\n",
    "               print(f\"Employee ID (emp_id) removed.\") \n",
    "               return \n",
    "        print(\"Employee not found.\")\n",
    "\n",
    "    def display_all_employees(self):\n",
    "       for employee in self._employees: \n",
    "           employee.display_info() \n",
    "           print(\"..........\")\n",
    "\n",
    "if __name__ == \"__main__\":\n",
    "    emp_mgmt = EmployeeManagement()\n",
    "\n",
    "# Adding Employees\n",
    "\n",
    "    obj_emp = Employee(\"Alice\", \"E001\", \"HR\")\n",
    "    emp_mgmt.add_employee(obj_emp) \n",
    "    emp_mgmt.add_employee (Manager(\"Bob\", \"E002\", \"Engineering\", 10))\n",
    "    emp_mgmt.add_employee (Intern(\"Charlie\", \"E003\", \"Marketing\", 6))\n",
    "    emp_mgmt.add_employee ( Intern(\"Charlie\", \"E003\", \"Marketing\", 6))\n",
    "\n",
    "    print(\"ALL employees\")\n",
    "    emp_mgmt.display_all_employees()\n",
    "\n",
    "    emp_mgmt.remove_employee(\"E001\")\n",
    "\n",
    "# Display All Employees After Removal \n",
    "    print(\"\\nAfter Removal:\") \n",
    "    emp_mgmt.display_all.employees()"
   ]
  },
  {
   "cell_type": "code",
   "execution_count": null,
   "metadata": {},
   "outputs": [],
   "source": []
  }
 ],
 "metadata": {
  "kernelspec": {
   "display_name": "Python 3",
   "language": "python",
   "name": "python3"
  },
  "language_info": {
   "codemirror_mode": {
    "name": "ipython",
    "version": 3
   },
   "file_extension": ".py",
   "mimetype": "text/x-python",
   "name": "python",
   "nbconvert_exporter": "python",
   "pygments_lexer": "ipython3",
   "version": "3.12.0"
  }
 },
 "nbformat": 4,
 "nbformat_minor": 2
}
