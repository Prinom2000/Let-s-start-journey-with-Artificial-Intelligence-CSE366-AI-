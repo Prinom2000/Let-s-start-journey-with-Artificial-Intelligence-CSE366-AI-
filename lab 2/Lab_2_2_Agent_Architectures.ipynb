{
  "nbformat": 4,
  "nbformat_minor": 0,
  "metadata": {
    "colab": {
      "provenance": [],
      "toc_visible": true
    },
    "kernelspec": {
      "name": "python3",
      "display_name": "Python 3"
    },
    "language_info": {
      "name": "python"
    }
  },
  "cells": [
    {
      "cell_type": "markdown",
      "source": [
        "# Representing Agents and Environments"
      ],
      "metadata": {
        "id": "dHvgLXH59yKe"
      }
    },
    {
      "cell_type": "markdown",
      "source": [
        "## Building the Environment Class\n",
        "\n",
        "\n",
        "* **Initialize the Grid:** Define the size of the grid (width and height) and initialize it. You might use a 2D array or a list of lists to represent the grid, where each cell can hold information about what's in that location (e.g., empty, an obstacle, an agent).\n",
        "\n",
        "* **Add Features to the Grid:** Depending on your simulation's needs, you might want to add features like obstacles, targets, or resources. These features could be added at the initialization stage or dynamically during the simulation.\n",
        "\n",
        "* **Update and Render Methods:** Implement methods to update the grid's state and render it for visualization. The update method can handle changes over time, such as moving obstacles or regenerating resources. The render method can be as simple as printing the grid to the console or as complex as creating a graphical representation.\n",
        "\n",
        "* **Interaction Methods:** Provide methods that allow agents to interact with the environment. This might include moving from one grid cell to another, checking the contents of a cell, or altering the grid by adding or removing features."
      ],
      "metadata": {
        "id": "2l63L3SfrIdh"
      }
    },
    {
      "cell_type": "code",
      "source": [
        "class Environment:\n",
        "    def __init__(self, width, height):\n",
        "        self.width = width\n",
        "        self.height = height\n",
        "        self.grid = [[None for _ in range(width)] for _ in range(height)]\n",
        "\n",
        "    def add_feature(self, feature, location):\n",
        "        # Add feature to the grid at the specified location\n",
        "        pass\n",
        "\n",
        "    def update(self):\n",
        "        # Update the environment state\n",
        "        pass\n",
        "\n",
        "    def render(self):\n",
        "        # Render the grid for visualization\n",
        "        pass\n"
      ],
      "metadata": {
        "id": "FoLXNjnvaejy"
      },
      "execution_count": 10,
      "outputs": []
    },
    {
      "cell_type": "markdown",
      "source": [
        "## Designing the Agent Class\n",
        "\n",
        "* **Agent Initialization:** Define the initial state of an agent, including its position on the grid and any other relevant properties like health, energy, or inventory.\n",
        "\n",
        "* **Movement Methods:** Implement methods that allow the agent to move within the grid, ensuring that movements are valid within the constraints of the environment (e.g., not moving into obstacles).\n",
        "\n",
        "* **Action Methods:** Besides moving, agents might perform other actions such as picking up items, interacting with other agents, or altering the environment. Define these actions as methods within the agent class.\n",
        "\n",
        "* **Perception Method:** Agents may need to \"perceive\" their surroundings to make decisions. Implement a method that allows an agent to inspect adjacent grid cells or the entire environment, depending on the simulation's complexity and rules.\n",
        "\n",
        "* **Decision Making:** Depending on your simulation's goals, agents might follow simple scripted behaviors or use more complex algorithms (like machine learning) to decide their actions. This could involve implementing a method that decides the next action based on the agent's state and perceptions."
      ],
      "metadata": {
        "id": "buqh4cY8r4Zc"
      }
    },
    {
      "cell_type": "code",
      "source": [
        "class Agent:\n",
        "    def __init__(self, environment, start_pos):\n",
        "        self.environment = environment\n",
        "        self.position = start_pos\n",
        "\n",
        "    def move(self, direction):\n",
        "        # Move the agent in the specified direction\n",
        "        pass\n",
        "\n",
        "    def act(self):\n",
        "        # Perform an action based on perception and decision making\n",
        "        pass\n",
        "\n",
        "    def perceive(self):\n",
        "        # Perceive the surroundings and return information\n",
        "        pass\n",
        "\n"
      ],
      "metadata": {
        "id": "6u5m9IDLr5Lk"
      },
      "execution_count": 11,
      "outputs": []
    },
    {
      "cell_type": "code",
      "source": [
        "# Example usage\n",
        "env = Environment(10, 10)\n",
        "agent = Agent(env, (5, 5))"
      ],
      "metadata": {
        "id": "-gxkXoW1r6oR"
      },
      "execution_count": 12,
      "outputs": []
    },
    {
      "cell_type": "markdown",
      "source": [
        "# Use Case Description: Autonomous Robot Navigation in a Warehouse\n",
        "\n",
        "## Overview\n",
        "In a modern warehouse, efficient space management and timely retrieval of goods are crucial for operational efficiency. Autonomous robots are employed to navigate the warehouse, move goods, and perform inventory checks. The simulation of robot movement within a grid-like environment mirrors the real-world layout of a warehouse, where aisles and racks are arranged in a structured manner. This simulation framework can be used to develop and test algorithms for pathfinding, obstacle avoidance, and optimal resource allocation in a controlled virtual environment before deploying them in actual warehouse operations.\n",
        "\n",
        "## Objectives\n",
        "Pathfinding and Navigation: Develop algorithms that enable robots to find the shortest and most efficient paths from one point to another while avoiding obstacles such as stationary and moving objects (e.g., other robots, human workers).\n",
        "* **Task Optimization:** Implement task allocation strategies that minimize travel time and energy consumption, enhancing overall productivity.\n",
        "* **Safety and Collision Avoidance:** Ensure that robots can detect potential collisions and dynamically adjust their paths to maintain a safe working environment for both robots and human workers.\n",
        "\n",
        "## Implementation Details\n",
        "Environment Setup: The warehouse layout is represented as a grid, with each cell corresponding to a specific area in the warehouse. Obstacles, such as racks and designated no-go zones, are marked within the grid.\n",
        "\n",
        "* **Agent (Robot) Capabilities:**Each robot is equipped with sensors and algorithms that allow it to perceive its surroundings, make decisions, and move within the grid. The robots can perform tasks such as picking up and dropping off goods at specified locations.\n",
        "* **Simulation and Testing:** The simulation environment is used to test various scenarios, including high-traffic conditions, emergency situations, and new layout configurations. This helps in identifying bottlenecks and optimizing the flow of robots and goods within the warehouse."
      ],
      "metadata": {
        "id": "VMvIJGZhtUTu"
      }
    },
    {
      "cell_type": "markdown",
      "source": [
        "## Step 1: Define the Environment and Agent Classes"
      ],
      "metadata": {
        "id": "y-GmkCUhuNjH"
      }
    },
    {
      "cell_type": "code",
      "source": [
        "class Environment:\n",
        "    def __init__(self, width, height):\n",
        "        self.width = width\n",
        "        self.height = height\n",
        "        # Initialize grid to None\n",
        "        self.grid = [[None for _ in range(width)] for _ in range(height)]\n",
        "\n",
        "    def place_agent(self, agent, x, y):\n",
        "        if 0 <= x < self.width and 0 <= y < self.height:\n",
        "            self.grid[y][x] = agent\n",
        "            agent.x = x\n",
        "            agent.y = y\n",
        "\n",
        "    def move_agent(self, agent, dx, dy):\n",
        "        new_x, new_y = agent.x + dx, agent.y + dy\n",
        "        if 0 <= new_x < self.width and 0 <= new_y < self.height:\n",
        "            # Update grid with new position\n",
        "            self.grid[agent.y][agent.x] = None  # Remove agent from old position\n",
        "            self.grid[new_y][new_x] = agent  # Place agent at new position\n",
        "            agent.x = new_x\n",
        "            agent.y = new_y\n",
        "            return True\n",
        "        return False\n",
        "\n"
      ],
      "metadata": {
        "id": "0BR_tVddtXD6"
      },
      "execution_count": 1,
      "outputs": []
    },
    {
      "cell_type": "code",
      "source": [
        "class Agent:\n",
        "    def __init__(self, environment):\n",
        "        self.environment = environment\n",
        "        self.x = None\n",
        "        self.y = None\n",
        "        self.path_x = []\n",
        "        self.path_y = []\n",
        "\n",
        "    def move(self, dx, dy):\n",
        "        if self.environment.move_agent(self, dx, dy):\n",
        "            self.path_x.append(self.x)\n",
        "            self.path_y.append(self.y)\n",
        "\n",
        "    def move_up(self): self.move(0, -1)\n",
        "    def move_down(self): self.move(0, 1)\n",
        "    def move_left(self): self.move(-1, 0)\n",
        "    def move_right(self): self.move(1, 0)\n"
      ],
      "metadata": {
        "id": "fnOf9QoauRtc"
      },
      "execution_count": 2,
      "outputs": []
    },
    {
      "cell_type": "markdown",
      "source": [
        "## Step 2: Initialize the Environment and Agent, Simulate Movement"
      ],
      "metadata": {
        "id": "eTS1clL1uVf-"
      }
    },
    {
      "cell_type": "code",
      "source": [
        "env = Environment(10, 10)  # A 10x10 grid\n",
        "robot = Agent(env)\n",
        "env.place_agent(robot, 5, 5)  # Place the robot at position (5, 5)\n",
        "\n",
        "# Simulate movements\n",
        "robot.move_up()\n",
        "robot.move_up()\n",
        "robot.move_right()\n",
        "robot.move_right()\n",
        "robot.move_down()\n",
        "robot.move_left()\n"
      ],
      "metadata": {
        "id": "L_-tsEreuU2j"
      },
      "execution_count": 3,
      "outputs": []
    },
    {
      "cell_type": "markdown",
      "source": [
        "## Step 3: Plot the Agent's Path within the Environment"
      ],
      "metadata": {
        "id": "AuL-S6MGuaxY"
      }
    },
    {
      "cell_type": "code",
      "source": [
        "import matplotlib.pyplot as plt"
      ],
      "metadata": {
        "id": "7c9gEj7quuyt"
      },
      "execution_count": 5,
      "outputs": []
    },
    {
      "cell_type": "code",
      "source": [
        "plt.figure(figsize=(5, 5))\n",
        "plt.plot(robot.path_x, robot.path_y, marker='o', linestyle='-')\n",
        "plt.xlim(0, env.width)\n",
        "plt.ylim(0, env.height)\n",
        "plt.title('Agent Movement Path in Environment')\n",
        "plt.xlabel('X Position')\n",
        "plt.ylabel('Y Position')\n",
        "plt.grid(True)\n",
        "plt.gca().invert_yaxis()  # Invert y-axis to match grid's origin at top-left\n",
        "plt.show()\n"
      ],
      "metadata": {
        "colab": {
          "base_uri": "https://localhost:8080/",
          "height": 487
        },
        "id": "7J1oaaTNuSj4",
        "outputId": "b3c9b9b8-0d52-4407-8c91-0bdc75ad3864"
      },
      "execution_count": 6,
      "outputs": [
        {
          "output_type": "display_data",
          "data": {
            "text/plain": [
              "<Figure size 500x500 with 1 Axes>"
            ],
            "image/png": "[encoded data removed]"
          },
          "metadata": {}
        }
      ]
    },
    {
      "cell_type": "code",
      "source": [],
      "metadata": {
        "id": "r5cq9xiQucsL"
      },
      "execution_count": null,
      "outputs": []
    }
  ]
}